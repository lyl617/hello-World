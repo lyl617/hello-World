{
 "cells": [
  {
   "cell_type": "markdown",
   "metadata": {},
   "source": [
    "# Hands-on 2\n",
    "\n",
    "### CS2545 - Data Science ###\n",
    "### Fall, 2018 ###\n",
    "### UNB, Fredericton ###\n",
    "\n",
    "Please complete the following and submit this notebook (filename: handson2-**lastname**-**firstname**.ipynb) to D2L by 11:59 am, Monday, September 24. \n",
    "</br>\n",
    "</br>\n",
    "</br>"
   ]
  },
  {
   "cell_type": "markdown",
   "metadata": {},
   "source": [
    "** 1.** While residents in the United States are used to seeing fuel efficiency as mpg (miles per gallon), there are many other areas of the world, including Canada, that use L/100km (liters per 100 kilometers). To convert *F* in mpg (US gallons) into L/100km, you can use the formula: 235.21/F.\n",
    "\n",
    "*CarsFuelEconomyMPG* is a dictionary containing the fuel economy of several cars in mpg. Write a Python function *MpgToL100* to convert mpg to L/100km. Populate a new dictionary *CarsFuelEconomyL100* by converting fuel economy values in *CarsFuelEconomyMPG*.\n",
    "\n",
    "Also, determine the most fuel efficient car and its fuel economy is L/100km.\n",
    "\n"
   ]
  },
  {
   "cell_type": "code",
   "execution_count": null,
   "metadata": {
    "collapsed": false
   },
   "outputs": [],
   "source": [
    "CarsFuelEconomyMPG = {\"Fiat 500e\": 112, \"BMW i3\": 118, \"Tesla Model S 75D\": 103, \"Volvo V90 FWD\": 27, \"Toyota Prius c\": 46, \"Volkswagen e-Golf\": 119, \"Hyundai Ioniq Blue\": 58, \"Ferrari GTC4Lusso\": 13, \"Bugatti Chiron \":11, \"Rolls-Royce Dawn\": 14, \"Bentley Mulsanne\": 14, \"Kia Niro FE\":50}\n",
    "\n",
    "# write your code below\n",
    "\n",
    "\n",
    "\n"
   ]
  },
  {
   "cell_type": "markdown",
   "metadata": {},
   "source": [
    "** 2.** Write a Python program that finds the smallest number in the list *NumList*. Your program should use Python's functional features (**reduce** and **lambda** function)."
   ]
  },
  {
   "cell_type": "code",
   "execution_count": null,
   "metadata": {
    "collapsed": false
   },
   "outputs": [],
   "source": [
    "import random\n",
    "\n",
    "random.seed(98765)\n",
    "smallest = random.randint(0, 99)\n",
    "largest = smallest * 50 + 100\n",
    "NumList =[]\n",
    "for _ in range(largest):\n",
    "    NumList.append(random.randint(smallest, largest))\n",
    "random.shuffle(NumList)\n",
    "\n",
    "# write your code below\n",
    "\n",
    "\n"
   ]
  },
  {
   "cell_type": "markdown",
   "metadata": {
    "collapsed": true
   },
   "source": [
    "** 3.** Implement a Python class *NumFinder* whose constructor takes a list of numbers. It has the following  methods:\n",
    "- FindSmallest() : returns the smallest number is the list\n",
    "- FindLargest() : returns the largest number is the list\n",
    "- FindCount(n) : returns the number of occurrences of *n* is the list "
   ]
  },
  {
   "cell_type": "code",
   "execution_count": null,
   "metadata": {
    "collapsed": false
   },
   "outputs": [],
   "source": [
    "\n",
    "# write your code below\n",
    "\n",
    "\n",
    "\n",
    "\n",
    "\n",
    "\n",
    "\n",
    "    \n",
    "# test your code by uncommenting the following (using NumList in problem 1)\n",
    "# nf = NumFinder(NumList)\n",
    "# print nf.FindSmallest()\n",
    "# print nf.FindLargest()\n",
    "# print nf.FindCount(380)\n",
    "        "
   ]
  }
 ],
 "metadata": {
  "anaconda-cloud": {},
  "kernelspec": {
   "display_name": "Python [Root]",
   "language": "python",
   "name": "Python [Root]"
  },
  "language_info": {
   "codemirror_mode": {
    "name": "ipython",
    "version": 2
   },
   "file_extension": ".py",
   "mimetype": "text/x-python",
   "name": "python",
   "nbconvert_exporter": "python",
   "pygments_lexer": "ipython2",
   "version": "2.7.12"
  }
 },
 "nbformat": 4,
 "nbformat_minor": 0
}
